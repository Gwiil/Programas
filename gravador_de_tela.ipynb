{
 "cells": [
  {
   "cell_type": "code",
   "execution_count": 3,
   "id": "55f61cd6",
   "metadata": {},
   "outputs": [],
   "source": [
    "import cv2\n",
    "import keyboard\n",
    "import pyautogui\n",
    "import numpy as np"
   ]
  },
  {
   "cell_type": "code",
   "execution_count": 6,
   "id": "3cd4a8a2",
   "metadata": {},
   "outputs": [],
   "source": [
    "fps = 30\n",
    "tamanho_tela = tuple(pyautogui.size())\n",
    "codec = cv2.VideoWriter_fourcc(*\"XVID\") # .mp4 = mp4h, .avi = XVID\n",
    "\n",
    "video = cv2.VideoWriter(\"video.avi\", codec, fps, tamanho_tela)\n",
    "\n",
    "while True:\n",
    "    frame = pyautogui.screenshot()\n",
    "    frame = np.array(frame)\n",
    "    \n",
    "    frame = cv2.cvtColor(frame, cv2.COLOR_RGB2BGR)\n",
    "    video.write(frame)\n",
    "    \n",
    "    if keyboard.is_pressed('esc'):\n",
    "        break\n",
    "video.release()\n",
    "cv2.destroyAllWindows()"
   ]
  },
  {
   "cell_type": "code",
   "execution_count": null,
   "id": "31a9cc6e",
   "metadata": {},
   "outputs": [],
   "source": []
  }
 ],
 "metadata": {
  "kernelspec": {
   "display_name": "Python 3 (ipykernel)",
   "language": "python",
   "name": "python3"
  },
  "language_info": {
   "codemirror_mode": {
    "name": "ipython",
    "version": 3
   },
   "file_extension": ".py",
   "mimetype": "text/x-python",
   "name": "python",
   "nbconvert_exporter": "python",
   "pygments_lexer": "ipython3",
   "version": "3.11.5"
  }
 },
 "nbformat": 4,
 "nbformat_minor": 5
}
